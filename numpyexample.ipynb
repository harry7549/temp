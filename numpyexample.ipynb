{
 "cells": [
  {
   "cell_type": "code",
   "execution_count": 5,
   "id": "a1dd8bfd",
   "metadata": {},
   "outputs": [],
   "source": [
    "import numpy as np"
   ]
  },
  {
   "cell_type": "code",
   "execution_count": 15,
   "id": "771593ad",
   "metadata": {},
   "outputs": [
    {
     "name": "stdout",
     "output_type": "stream",
     "text": [
      "<class 'numpy.ndarray'>\n",
      "['FCAIT' 'FCT' 'FET']\n"
     ]
    }
   ],
   "source": [
    "a= np.array(['FCAIT','FCT','FET'])\n",
    "\n",
    "print(type(a))\n",
    "\n",
    "print(a)"
   ]
  },
  {
   "cell_type": "code",
   "execution_count": 3,
   "id": "10e350df",
   "metadata": {},
   "outputs": [
    {
     "name": "stdout",
     "output_type": "stream",
     "text": [
      "[0 1 2 3 4 5 6 7 8 9]\n"
     ]
    }
   ],
   "source": [
    "b = np.arange(0,10,1)\n",
    "\n",
    "print(b)"
   ]
  },
  {
   "cell_type": "code",
   "execution_count": 18,
   "id": "4e83ca6a",
   "metadata": {},
   "outputs": [
    {
     "name": "stdout",
     "output_type": "stream",
     "text": [
      "[[0. 0. 0.]\n",
      " [0. 0. 0.]\n",
      " [0. 0. 0.]]\n"
     ]
    }
   ],
   "source": [
    "c = np.zeros(3)\n",
    "\n",
    "print(c)\n",
    "\n",
    "c1 = np.zeros((3,3)) #have to give as tuple\n",
    "\n",
    "print(c1)"
   ]
  },
  {
   "cell_type": "code",
   "execution_count": 22,
   "id": "0297471b",
   "metadata": {},
   "outputs": [
    {
     "name": "stdout",
     "output_type": "stream",
     "text": [
      "[[1. 1. 1.]\n",
      " [1. 1. 1.]\n",
      " [1. 1. 1.]\n",
      " [1. 1. 1.]]\n"
     ]
    }
   ],
   "source": [
    "\n",
    "\n",
    "c1 = np.ones((4,3)) #have to give as tuple\n",
    "\n",
    "print(c1)"
   ]
  },
  {
   "cell_type": "code",
   "execution_count": 21,
   "id": "a241d05c",
   "metadata": {},
   "outputs": [
    {
     "data": {
      "text/plain": [
       "array([[1., 0., 0., 0., 0.],\n",
       "       [0., 1., 0., 0., 0.],\n",
       "       [0., 0., 1., 0., 0.],\n",
       "       [0., 0., 0., 1., 0.],\n",
       "       [0., 0., 0., 0., 1.]])"
      ]
     },
     "execution_count": 21,
     "metadata": {},
     "output_type": "execute_result"
    }
   ],
   "source": [
    "b = np.eye(5)\n",
    "b\n"
   ]
  },
  {
   "cell_type": "code",
   "execution_count": 22,
   "id": "d41f647d",
   "metadata": {},
   "outputs": [
    {
     "name": "stdout",
     "output_type": "stream",
     "text": [
      "[0.  0.1 0.2 0.3 0.4 0.5 0.6 0.7 0.8 0.9 1. ]\n"
     ]
    }
   ],
   "source": [
    "c = np.linspace(0,1,11)\n",
    "\n",
    "print(c)"
   ]
  },
  {
   "cell_type": "code",
   "execution_count": 23,
   "id": "036376d0",
   "metadata": {},
   "outputs": [
    {
     "name": "stdout",
     "output_type": "stream",
     "text": [
      "11\n"
     ]
    }
   ],
   "source": [
    "\n",
    "l = [1,5,3,8,2,3,6,7,5,2,9,11,2,5,3,4,8,9,3,1,9,3]\n",
    "\n",
    "a = np.array(l)\n",
    "\n",
    "print(a.max())\n",
    "\n"
   ]
  },
  {
   "cell_type": "code",
   "execution_count": 28,
   "id": "9f061b4b",
   "metadata": {},
   "outputs": [
    {
     "name": "stdout",
     "output_type": "stream",
     "text": [
      "Max way1 =  11\n",
      "Max way2 =  1\n"
     ]
    }
   ],
   "source": [
    "l = [1,5,3,8,2,3,6,7,5,2,9,11,2,5,3,4,8,9,3,1,9,3]\n",
    "\n",
    "a = np.array(l)\n",
    "\n",
    "print('Max way1 = ',a.max())\n",
    "\n",
    "print('Max way2 = ',np.min(a))"
   ]
  },
  {
   "cell_type": "code",
   "execution_count": 25,
   "id": "fefb6a4e",
   "metadata": {},
   "outputs": [
    {
     "name": "stdout",
     "output_type": "stream",
     "text": [
      "ArgMin =  3\n",
      "ArgMax =  8\n",
      "Sum =  122\n",
      "Mean =  5.304347826086956\n",
      "Std =  3.042235771223635\n"
     ]
    }
   ],
   "source": [
    "l = [7,5,3,1,8,2,3,6,11,5,2,9,10,2,5,3,7,8,9,3,1,9,3]\n",
    "\n",
    "a = np.array(l)\n",
    "\n",
    "#print('Min = ',a.min())\n",
    "\n",
    "print('ArgMin = ',a.argmin())\n",
    "\n",
    "#print('Max = ',a.max())\n",
    "\n",
    "print('ArgMax = ',a.argmax())\n",
    "\n",
    "print('Sum = ',a.sum())\n",
    "\n",
    "print('Mean = ',a.mean())\n",
    "\n",
    "print('Std = ',a.std())"
   ]
  },
  {
   "cell_type": "code",
   "execution_count": 26,
   "id": "14dc6791",
   "metadata": {},
   "outputs": [
    {
     "name": "stdout",
     "output_type": "stream",
     "text": [
      "5\n"
     ]
    }
   ],
   "source": [
    "ar = np.array([1,1,3])\n",
    "\n",
    "print(ar.sum())"
   ]
  },
  {
   "cell_type": "code",
   "execution_count": 27,
   "id": "18dbe843",
   "metadata": {},
   "outputs": [
    {
     "name": "stdout",
     "output_type": "stream",
     "text": [
      "sum (cols)=  [12 15 18]\n",
      "sum (rows)=  [ 6 15 24]\n"
     ]
    }
   ],
   "source": [
    "\n",
    "array2d = np.array([[1,2,3],\n",
    "                    [4,5,6],\n",
    "                    [7,8,9]])\n",
    "\n",
    "print('sum (cols)= ',array2d.sum(axis=0)) #Vertical\n",
    "\n",
    "print('sum (rows)= ',array2d.sum(axis=1)) #Horizontal\n"
   ]
  },
  {
   "cell_type": "code",
   "execution_count": 35,
   "id": "feb51554",
   "metadata": {},
   "outputs": [
    {
     "ename": "ValueError",
     "evalue": "cannot reshape array of size 25 into shape (1,2)",
     "output_type": "error",
     "traceback": [
      "\u001b[1;31m---------------------------------------------------------------------------\u001b[0m",
      "\u001b[1;31mValueError\u001b[0m                                Traceback (most recent call last)",
      "Cell \u001b[1;32mIn[35], line 3\u001b[0m\n\u001b[0;32m      1\u001b[0m b \u001b[38;5;241m=\u001b[39m np\u001b[38;5;241m.\u001b[39mzeros((\u001b[38;5;241m5\u001b[39m,\u001b[38;5;241m5\u001b[39m))\n\u001b[1;32m----> 3\u001b[0m c\u001b[38;5;241m=\u001b[39m\u001b[43mb\u001b[49m\u001b[38;5;241;43m.\u001b[39;49m\u001b[43mreshape\u001b[49m\u001b[43m(\u001b[49m\u001b[38;5;241;43m1\u001b[39;49m\u001b[43m,\u001b[49m\u001b[38;5;241;43m2\u001b[39;49m\u001b[43m)\u001b[49m\n\u001b[0;32m      5\u001b[0m \u001b[38;5;28mprint\u001b[39m(c)\n",
      "\u001b[1;31mValueError\u001b[0m: cannot reshape array of size 25 into shape (1,2)"
     ]
    }
   ],
   "source": [
    "b = np.zeros((5,5))\n",
    "\n",
    "c=b.reshape(1,2)\n",
    "\n",
    "print(c)"
   ]
  },
  {
   "cell_type": "code",
   "execution_count": 58,
   "id": "c05ac1ab",
   "metadata": {},
   "outputs": [
    {
     "name": "stdout",
     "output_type": "stream",
     "text": [
      "[77 22 47  9 65 24 40  2 68 90 88  5 27 49 64]\n",
      "[[77 22 47]\n",
      " [ 9 65 24]\n",
      " [40  2 68]\n",
      " [90 88  5]\n",
      " [27 49 64]]\n"
     ]
    }
   ],
   "source": [
    "re1 = np.random.randint(1,100,15)\n",
    "\n",
    "print(re1)\n",
    "\n",
    "re2 = re1.reshape(5,3)\n",
    "\n",
    "print(re2)"
   ]
  },
  {
   "cell_type": "code",
   "execution_count": 63,
   "id": "1ae5e8d1",
   "metadata": {},
   "outputs": [
    {
     "name": "stdout",
     "output_type": "stream",
     "text": [
      "[['a' 'b' 'c']\n",
      " ['d' 'e' 'f']\n",
      " ['g' 'h' 'i']]\n",
      "single =  g\n"
     ]
    }
   ],
   "source": [
    "arr =np.array([['a','b','c'],['d','e','f'],['g','h','i']])\n",
    "\n",
    "print(arr)\n",
    "\n",
    "print('double = ',arr[2][0]) # double bracket notaion\n",
    "\n",
    "print('single = ',arr[2,0]) # single bracket notation"
   ]
  },
  {
   "cell_type": "code",
   "execution_count": 66,
   "id": "b6e3f1cc",
   "metadata": {},
   "outputs": [
    {
     "name": "stdout",
     "output_type": "stream",
     "text": [
      "['c' 'd']\n"
     ]
    }
   ],
   "source": [
    "arr =np.array(['a','b','c','d','e','f','g','h'])\n",
    "\n",
    "print(arr[2:4])\n"
   ]
  },
  {
   "cell_type": "code",
   "execution_count": null,
   "id": "6e3f3655",
   "metadata": {},
   "outputs": [],
   "source": [
    "# 1. Create the same NumPy array using a Python range and a list.\n",
    "# 2. Using a NumPy function, create a one-dimensional NumPy array of the numbers from 10 to 100,\n",
    "# counting by 10.\n",
    "# 3.create a NumPy array of the capital letters, A-Z. (np.array(list(ascii_uppercase))\n",
    "# 4.create a ten-element NumPy array object of all zeros.\n",
    "# 5.create a ten-element NumPy array object of all ones.\n",
    "# 6.find the data type given in question 3.\n",
    "# 7. create a ten-element array of random integers between 1 and 5 (inclusive).\n",
    "# 8. Create a 1D array of numbers from 0 to 9.\n",
    "# OUTPUT: #> array([0, 1, 2, 3, 4, 5, 6, 7, 8, 9])\n",
    "# 9.Extract all odd numbers from arr (arr[arr % 2 == 1])\n",
    "#  Input:arr = np.array([0, 1, 2, 3, 4, 5, 6, 7, 8, 9])\n",
    "#  output: #> array([1, 3, 5, 7, 9])\n",
    "# 10.Replace all odd numbers in arr with -1.\n",
    "#  Input:arr = np.array([0, 1, 2, 3, 4, 5, 6, 7, 8, 9])\n",
    "#  output: #> array([ 0, -1, 2, -1, 4, -1, 6, -1, 8, -1])"
   ]
  },
  {
   "cell_type": "code",
   "execution_count": 7,
   "id": "f4dffb9e",
   "metadata": {},
   "outputs": [],
   "source": [
    "import pandas as pd\n",
    "import string"
   ]
  },
  {
   "cell_type": "code",
   "execution_count": null,
   "id": "592802d5",
   "metadata": {},
   "outputs": [],
   "source": [
    "df = pd.read_csv('ctc.csv')\n",
    "df"
   ]
  },
  {
   "cell_type": "code",
   "execution_count": null,
   "id": "345d0e8a",
   "metadata": {},
   "outputs": [],
   "source": [
    "df.head()"
   ]
  },
  {
   "cell_type": "code",
   "execution_count": 17,
   "id": "dd9c0d34",
   "metadata": {},
   "outputs": [
    {
     "ename": "NameError",
     "evalue": "name 'df' is not defined",
     "output_type": "error",
     "traceback": [
      "\u001b[1;31m---------------------------------------------------------------------------\u001b[0m",
      "\u001b[1;31mNameError\u001b[0m                                 Traceback (most recent call last)",
      "Cell \u001b[1;32mIn[17], line 1\u001b[0m\n\u001b[1;32m----> 1\u001b[0m \u001b[43mdf\u001b[49m\u001b[38;5;241m.\u001b[39mshape()\n",
      "\u001b[1;31mNameError\u001b[0m: name 'df' is not defined"
     ]
    }
   ],
   "source": [
    "df.shape()\n"
   ]
  },
  {
   "cell_type": "code",
   "execution_count": 10,
   "id": "97b4765d",
   "metadata": {},
   "outputs": [
    {
     "data": {
      "text/plain": [
       "array([ 0, -1,  2, -1,  4, -1,  6, -1,  8, -1])"
      ]
     },
     "execution_count": 10,
     "metadata": {},
     "output_type": "execute_result"
    }
   ],
   "source": [
    "a=np.arange(0,10,1)\n",
    "a[a%2!=0]=-1\n",
    "a"
   ]
  },
  {
   "cell_type": "code",
   "execution_count": 18,
   "id": "445434bd",
   "metadata": {},
   "outputs": [],
   "source": [
    "a=np.array(list(string.ascii_uppercase))"
   ]
  },
  {
   "cell_type": "code",
   "execution_count": 19,
   "id": "08606b36",
   "metadata": {},
   "outputs": [
    {
     "data": {
      "text/plain": [
       "array(['A', 'B', 'C', 'D', 'E', 'F', 'G', 'H', 'I', 'J', 'K', 'L', 'M',\n",
       "       'N', 'O', 'P', 'Q', 'R', 'S', 'T', 'U', 'V', 'W', 'X', 'Y', 'Z'],\n",
       "      dtype='<U1')"
      ]
     },
     "execution_count": 19,
     "metadata": {},
     "output_type": "execute_result"
    }
   ],
   "source": [
    "a"
   ]
  },
  {
   "cell_type": "code",
   "execution_count": null,
   "id": "507e2e16",
   "metadata": {},
   "outputs": [],
   "source": []
  }
 ],
 "metadata": {
  "kernelspec": {
   "display_name": "Python 3 (ipykernel)",
   "language": "python",
   "name": "python3"
  },
  "language_info": {
   "codemirror_mode": {
    "name": "ipython",
    "version": 3
   },
   "file_extension": ".py",
   "mimetype": "text/x-python",
   "name": "python",
   "nbconvert_exporter": "python",
   "pygments_lexer": "ipython3",
   "version": "3.10.10"
  }
 },
 "nbformat": 4,
 "nbformat_minor": 5
}
