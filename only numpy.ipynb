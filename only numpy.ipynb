{
 "cells": [
  {
   "cell_type": "code",
   "execution_count": 1,
   "id": "0d27171c",
   "metadata": {},
   "outputs": [],
   "source": [
    "import numpy as np"
   ]
  },
  {
   "cell_type": "code",
   "execution_count": 2,
   "id": "9080fb2c",
   "metadata": {},
   "outputs": [
    {
     "name": "stdout",
     "output_type": "stream",
     "text": [
      "<class 'numpy.ndarray'>\n",
      "['FCAIT' 'FCT' 'FET']\n"
     ]
    }
   ],
   "source": [
    "a= np.array(['FCAIT','FCT','FET'])\n",
    "\n",
    "print(type(a))\n",
    "\n",
    "print(a)"
   ]
  },
  {
   "cell_type": "code",
   "execution_count": 3,
   "id": "b7027da1",
   "metadata": {},
   "outputs": [
    {
     "name": "stdout",
     "output_type": "stream",
     "text": [
      "[0 1 2 3 4 5 6 7 8 9]\n"
     ]
    }
   ],
   "source": [
    "b = np.arange(0,10,1)\n",
    "\n",
    "print(b)"
   ]
  },
  {
   "cell_type": "code",
   "execution_count": 4,
   "id": "86ff7359",
   "metadata": {},
   "outputs": [
    {
     "name": "stdout",
     "output_type": "stream",
     "text": [
      "[0. 0. 0.]\n",
      "[[0. 0. 0.]\n",
      " [0. 0. 0.]\n",
      " [0. 0. 0.]]\n"
     ]
    }
   ],
   "source": [
    "c = np.zeros(3)\n",
    "\n",
    "print(c)\n",
    "\n",
    "c1 = np.zeros((3,3)) #have to give as tuple\n",
    "\n",
    "print(c1)"
   ]
  },
  {
   "cell_type": "code",
   "execution_count": 5,
   "id": "8eb41415",
   "metadata": {},
   "outputs": [
    {
     "name": "stdout",
     "output_type": "stream",
     "text": [
      "[1. 1. 1.]\n",
      "[[1. 1. 1.]\n",
      " [1. 1. 1.]\n",
      " [1. 1. 1.]]\n"
     ]
    }
   ],
   "source": [
    "c = np.ones(3)\n",
    "\n",
    "print(c)\n",
    "\n",
    "c1 = np.ones((3,3)) #have to give as tuple\n",
    "\n",
    "print(c1)"
   ]
  },
  {
   "cell_type": "code",
   "execution_count": null,
   "id": "b8cbd01f",
   "metadata": {},
   "outputs": [],
   "source": [
    "b = np.eye(2)\n",
    "#b = np.eye(3)\n",
    "\n",
    "print(b)"
   ]
  },
  {
   "cell_type": "code",
   "execution_count": null,
   "id": "498b2b76",
   "metadata": {},
   "outputs": [],
   "source": [
    "c = np.linspace(0,1,11)\n",
    "\n",
    "print(c)"
   ]
  },
  {
   "cell_type": "code",
   "execution_count": null,
   "id": "40b4bdaf",
   "metadata": {},
   "outputs": [],
   "source": [
    "\n",
    "l = [1,5,3,8,2,3,6,7,5,2,9,11,2,5,3,4,8,9,3,1,9,3]\n",
    "\n",
    "a = np.array(l)\n",
    "\n",
    "print('Min way1 = ',a.min())\n",
    "\n",
    "print('Min way2 = ',np.min(a))"
   ]
  },
  {
   "cell_type": "code",
   "execution_count": null,
   "id": "e1d565c1",
   "metadata": {},
   "outputs": [],
   "source": [
    "l = [1,5,3,8,2,3,6,7,5,2,9,11,2,5,3,4,8,9,3,1,9,3]\n",
    "\n",
    "a = np.array(l)\n",
    "\n",
    "print('Max way1 = ',a.max())\n",
    "\n",
    "print('Max way2 = ',np.max(a))"
   ]
  },
  {
   "cell_type": "code",
   "execution_count": null,
   "id": "724cf464",
   "metadata": {},
   "outputs": [],
   "source": [
    "l = [7,5,3,1,8,2,3,6,11,5,2,9,10,2,5,3,7,8,9,3,1,9,3]\n",
    "\n",
    "a = np.array(l)\n",
    "\n",
    "print('Min = ',a.min())\n",
    "\n",
    "print('ArgMin = ',a.argmin())\n",
    "\n",
    "print('Max = ',a.max())\n",
    "\n",
    "print('ArgMax = ',a.argmax())\n",
    "\n",
    "print('Sum = ',a.sum())\n",
    "\n",
    "print('Mean = ',a.mean())\n",
    "\n",
    "print('Std = ',a.std())"
   ]
  },
  {
   "cell_type": "code",
   "execution_count": null,
   "id": "98976116",
   "metadata": {},
   "outputs": [],
   "source": [
    "array2d = np.array([[1,2,3],[4,5,6],[7,8,9]])\n",
    "\n",
    "print('sum = ',array2d.sum())"
   ]
  },
  {
   "cell_type": "code",
   "execution_count": null,
   "id": "529051b4",
   "metadata": {},
   "outputs": [],
   "source": [
    "\n",
    "array2d = np.array([[1,2,3],[4,5,6],[7,8,9]])\n",
    "\n",
    "print('sum (cols)= ',array2d.sum(axis=0)) #Vertical\n",
    "\n",
    "print('sum (rows)= ',array2d.sum(axis=1)) #Horizontal"
   ]
  },
  {
   "cell_type": "code",
   "execution_count": null,
   "id": "108ab90b",
   "metadata": {},
   "outputs": [],
   "source": [
    "b = np.zeros((3,3))\n",
    "\n",
    "print(b.shape)"
   ]
  },
  {
   "cell_type": "code",
   "execution_count": 6,
   "id": "aab923b2",
   "metadata": {},
   "outputs": [
    {
     "name": "stdout",
     "output_type": "stream",
     "text": [
      "[38 19 70 57 45  1  1 48 11  1 89 26 97 10 24]\n",
      "[[38 19 70]\n",
      " [57 45  1]\n",
      " [ 1 48 11]\n",
      " [ 1 89 26]\n",
      " [97 10 24]]\n"
     ]
    }
   ],
   "source": [
    "re1 = np.random.randint(1,100,15)\n",
    "\n",
    "print(re1)\n",
    "\n",
    "re2 = re1.reshape(5,3)\n",
    "\n",
    "print(re2)"
   ]
  },
  {
   "cell_type": "code",
   "execution_count": null,
   "id": "eddf8269",
   "metadata": {},
   "outputs": [],
   "source": [
    "arr =np.array([['a','b','c'],['d','e','f'],['g','h','i']])\n",
    "\n",
    "print(arr)\n",
    "\n",
    "print('double = ',arr[2][0]) # double bracket notaion\n",
    "\n",
    "print('single = ',arr[2,0]) # single bracket notation"
   ]
  },
  {
   "cell_type": "code",
   "execution_count": null,
   "id": "87231742",
   "metadata": {},
   "outputs": [],
   "source": [
    "arr =np.array(['a','b','c','d','e','f','g','h'])\n",
    "\n",
    "print(arr[2:5])\n",
    "print(arr[:5])\n",
    "print(arr[5:])\n",
    "print(arr[2:7:2])\n",
    "print(arr[::-1])"
   ]
  },
  {
   "cell_type": "code",
   "execution_count": null,
   "id": "fe410456",
   "metadata": {},
   "outputs": [],
   "source": []
  },
  {
   "cell_type": "code",
   "execution_count": null,
   "id": "9ab658a9",
   "metadata": {},
   "outputs": [],
   "source": []
  },
  {
   "cell_type": "code",
   "execution_count": null,
   "id": "f481d171",
   "metadata": {},
   "outputs": [],
   "source": []
  },
  {
   "cell_type": "code",
   "execution_count": null,
   "id": "59615347",
   "metadata": {},
   "outputs": [],
   "source": []
  },
  {
   "cell_type": "code",
   "execution_count": null,
   "id": "c92d81a4",
   "metadata": {},
   "outputs": [],
   "source": []
  }
 ],
 "metadata": {
  "kernelspec": {
   "display_name": "Python 3 (ipykernel)",
   "language": "python",
   "name": "python3"
  },
  "language_info": {
   "codemirror_mode": {
    "name": "ipython",
    "version": 3
   },
   "file_extension": ".py",
   "mimetype": "text/x-python",
   "name": "python",
   "nbconvert_exporter": "python",
   "pygments_lexer": "ipython3",
   "version": "3.10.10"
  }
 },
 "nbformat": 4,
 "nbformat_minor": 5
}
