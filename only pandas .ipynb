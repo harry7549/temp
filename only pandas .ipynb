{
 "cells": [
  {
   "cell_type": "code",
   "execution_count": 41,
   "id": "0088b565",
   "metadata": {},
   "outputs": [],
   "source": [
    "import pandas as pd\n"
   ]
  },
  {
   "cell_type": "code",
   "execution_count": 42,
   "id": "e832e17f",
   "metadata": {},
   "outputs": [
    {
     "name": "stdout",
     "output_type": "stream",
     "text": [
      "   sr     name   sub  marks  marks 1\n",
      "0  101  harsh    daa   45.0     47.0\n",
      "1  102   mihir   ccv   48.0     48.0\n",
      "2  103   dioen   ccn   41.0     49.0\n",
      "3  104    zeel    cs   49.0     45.0\n",
      "4  105   kenil    ws    NaN     46.0\n",
      "5  106  harshu   jee   47.0     35.0\n",
      "6  107  harshd   zee   20.0     39.0\n",
      "7  108    jeel  need   47.0      NaN\n"
     ]
    }
   ],
   "source": [
    "f=pd.read_csv('book1.csv')\n",
    "print(f)"
   ]
  },
  {
   "cell_type": "code",
   "execution_count": 43,
   "id": "4b5055bb",
   "metadata": {},
   "outputs": [
    {
     "data": {
      "text/plain": [
       "(8, 5)"
      ]
     },
     "execution_count": 43,
     "metadata": {},
     "output_type": "execute_result"
    }
   ],
   "source": [
    "f.shape"
   ]
  },
  {
   "cell_type": "code",
   "execution_count": 44,
   "id": "948a00c4",
   "metadata": {},
   "outputs": [
    {
     "data": {
      "text/html": [
       "<div>\n",
       "<style scoped>\n",
       "    .dataframe tbody tr th:only-of-type {\n",
       "        vertical-align: middle;\n",
       "    }\n",
       "\n",
       "    .dataframe tbody tr th {\n",
       "        vertical-align: top;\n",
       "    }\n",
       "\n",
       "    .dataframe thead th {\n",
       "        text-align: right;\n",
       "    }\n",
       "</style>\n",
       "<table border=\"1\" class=\"dataframe\">\n",
       "  <thead>\n",
       "    <tr style=\"text-align: right;\">\n",
       "      <th></th>\n",
       "      <th>sr</th>\n",
       "      <th>name</th>\n",
       "      <th>sub</th>\n",
       "      <th>marks</th>\n",
       "      <th>marks 1</th>\n",
       "    </tr>\n",
       "  </thead>\n",
       "  <tbody>\n",
       "    <tr>\n",
       "      <th>0</th>\n",
       "      <td>101</td>\n",
       "      <td>harsh</td>\n",
       "      <td>daa</td>\n",
       "      <td>45.0</td>\n",
       "      <td>47.0</td>\n",
       "    </tr>\n",
       "    <tr>\n",
       "      <th>1</th>\n",
       "      <td>102</td>\n",
       "      <td>mihir</td>\n",
       "      <td>ccv</td>\n",
       "      <td>48.0</td>\n",
       "      <td>48.0</td>\n",
       "    </tr>\n",
       "    <tr>\n",
       "      <th>2</th>\n",
       "      <td>103</td>\n",
       "      <td>dioen</td>\n",
       "      <td>ccn</td>\n",
       "      <td>41.0</td>\n",
       "      <td>49.0</td>\n",
       "    </tr>\n",
       "    <tr>\n",
       "      <th>3</th>\n",
       "      <td>104</td>\n",
       "      <td>zeel</td>\n",
       "      <td>cs</td>\n",
       "      <td>49.0</td>\n",
       "      <td>45.0</td>\n",
       "    </tr>\n",
       "    <tr>\n",
       "      <th>4</th>\n",
       "      <td>105</td>\n",
       "      <td>kenil</td>\n",
       "      <td>ws</td>\n",
       "      <td>NaN</td>\n",
       "      <td>46.0</td>\n",
       "    </tr>\n",
       "  </tbody>\n",
       "</table>\n",
       "</div>"
      ],
      "text/plain": [
       "   sr     name  sub  marks  marks 1\n",
       "0  101  harsh   daa   45.0     47.0\n",
       "1  102   mihir  ccv   48.0     48.0\n",
       "2  103   dioen  ccn   41.0     49.0\n",
       "3  104    zeel   cs   49.0     45.0\n",
       "4  105   kenil   ws    NaN     46.0"
      ]
     },
     "execution_count": 44,
     "metadata": {},
     "output_type": "execute_result"
    }
   ],
   "source": [
    "# the head is not count in auto first 5 record.\n",
    "f.head()"
   ]
  },
  {
   "cell_type": "code",
   "execution_count": 5,
   "id": "58b380a2",
   "metadata": {},
   "outputs": [
    {
     "data": {
      "text/html": [
       "<div>\n",
       "<style scoped>\n",
       "    .dataframe tbody tr th:only-of-type {\n",
       "        vertical-align: middle;\n",
       "    }\n",
       "\n",
       "    .dataframe tbody tr th {\n",
       "        vertical-align: top;\n",
       "    }\n",
       "\n",
       "    .dataframe thead th {\n",
       "        text-align: right;\n",
       "    }\n",
       "</style>\n",
       "<table border=\"1\" class=\"dataframe\">\n",
       "  <thead>\n",
       "    <tr style=\"text-align: right;\">\n",
       "      <th></th>\n",
       "      <th>sr</th>\n",
       "      <th>name</th>\n",
       "      <th>sub</th>\n",
       "      <th>marks</th>\n",
       "      <th>marks 1</th>\n",
       "    </tr>\n",
       "  </thead>\n",
       "  <tbody>\n",
       "    <tr>\n",
       "      <th>3</th>\n",
       "      <td>104</td>\n",
       "      <td>zeel</td>\n",
       "      <td>cs</td>\n",
       "      <td>49.0</td>\n",
       "      <td>45.0</td>\n",
       "    </tr>\n",
       "    <tr>\n",
       "      <th>4</th>\n",
       "      <td>105</td>\n",
       "      <td>kenil</td>\n",
       "      <td>ws</td>\n",
       "      <td>NaN</td>\n",
       "      <td>46.0</td>\n",
       "    </tr>\n",
       "    <tr>\n",
       "      <th>5</th>\n",
       "      <td>106</td>\n",
       "      <td>harshu</td>\n",
       "      <td>jee</td>\n",
       "      <td>47.0</td>\n",
       "      <td>35.0</td>\n",
       "    </tr>\n",
       "    <tr>\n",
       "      <th>6</th>\n",
       "      <td>107</td>\n",
       "      <td>harshd</td>\n",
       "      <td>zee</td>\n",
       "      <td>20.0</td>\n",
       "      <td>39.0</td>\n",
       "    </tr>\n",
       "    <tr>\n",
       "      <th>7</th>\n",
       "      <td>108</td>\n",
       "      <td>jeel</td>\n",
       "      <td>need</td>\n",
       "      <td>47.0</td>\n",
       "      <td>NaN</td>\n",
       "    </tr>\n",
       "  </tbody>\n",
       "</table>\n",
       "</div>"
      ],
      "text/plain": [
       "   sr     name   sub  marks  marks 1\n",
       "3  104    zeel    cs   49.0     45.0\n",
       "4  105   kenil    ws    NaN     46.0\n",
       "5  106  harshu   jee   47.0     35.0\n",
       "6  107  harshd   zee   20.0     39.0\n",
       "7  108    jeel  need   47.0      NaN"
      ]
     },
     "execution_count": 5,
     "metadata": {},
     "output_type": "execute_result"
    }
   ],
   "source": [
    "# the tail is not count auto last 5 record.\n",
    "f.tail()"
   ]
  },
  {
   "cell_type": "code",
   "execution_count": 6,
   "id": "1e72012f",
   "metadata": {},
   "outputs": [
    {
     "name": "stdout",
     "output_type": "stream",
     "text": [
      "<class 'pandas.core.frame.DataFrame'>\n",
      "RangeIndex: 8 entries, 0 to 7\n",
      "Data columns (total 5 columns):\n",
      " #   Column   Non-Null Count  Dtype  \n",
      "---  ------   --------------  -----  \n",
      " 0   sr       8 non-null      int64  \n",
      " 1   name     8 non-null      object \n",
      " 2   sub      8 non-null      object \n",
      " 3   marks    7 non-null      float64\n",
      " 4   marks 1  7 non-null      float64\n",
      "dtypes: float64(2), int64(1), object(2)\n",
      "memory usage: 448.0+ bytes\n"
     ]
    }
   ],
   "source": [
    "f.info()"
   ]
  },
  {
   "cell_type": "code",
   "execution_count": 7,
   "id": "9d33107e",
   "metadata": {},
   "outputs": [
    {
     "data": {
      "text/html": [
       "<div>\n",
       "<style scoped>\n",
       "    .dataframe tbody tr th:only-of-type {\n",
       "        vertical-align: middle;\n",
       "    }\n",
       "\n",
       "    .dataframe tbody tr th {\n",
       "        vertical-align: top;\n",
       "    }\n",
       "\n",
       "    .dataframe thead th {\n",
       "        text-align: right;\n",
       "    }\n",
       "</style>\n",
       "<table border=\"1\" class=\"dataframe\">\n",
       "  <thead>\n",
       "    <tr style=\"text-align: right;\">\n",
       "      <th></th>\n",
       "      <th>sr</th>\n",
       "      <th>marks</th>\n",
       "      <th>marks 1</th>\n",
       "    </tr>\n",
       "  </thead>\n",
       "  <tbody>\n",
       "    <tr>\n",
       "      <th>count</th>\n",
       "      <td>8.00000</td>\n",
       "      <td>7.000000</td>\n",
       "      <td>7.000000</td>\n",
       "    </tr>\n",
       "    <tr>\n",
       "      <th>mean</th>\n",
       "      <td>104.50000</td>\n",
       "      <td>42.428571</td>\n",
       "      <td>44.142857</td>\n",
       "    </tr>\n",
       "    <tr>\n",
       "      <th>std</th>\n",
       "      <td>2.44949</td>\n",
       "      <td>10.228345</td>\n",
       "      <td>5.177791</td>\n",
       "    </tr>\n",
       "    <tr>\n",
       "      <th>min</th>\n",
       "      <td>101.00000</td>\n",
       "      <td>20.000000</td>\n",
       "      <td>35.000000</td>\n",
       "    </tr>\n",
       "    <tr>\n",
       "      <th>25%</th>\n",
       "      <td>102.75000</td>\n",
       "      <td>43.000000</td>\n",
       "      <td>42.000000</td>\n",
       "    </tr>\n",
       "    <tr>\n",
       "      <th>50%</th>\n",
       "      <td>104.50000</td>\n",
       "      <td>47.000000</td>\n",
       "      <td>46.000000</td>\n",
       "    </tr>\n",
       "    <tr>\n",
       "      <th>75%</th>\n",
       "      <td>106.25000</td>\n",
       "      <td>47.500000</td>\n",
       "      <td>47.500000</td>\n",
       "    </tr>\n",
       "    <tr>\n",
       "      <th>max</th>\n",
       "      <td>108.00000</td>\n",
       "      <td>49.000000</td>\n",
       "      <td>49.000000</td>\n",
       "    </tr>\n",
       "  </tbody>\n",
       "</table>\n",
       "</div>"
      ],
      "text/plain": [
       "             sr       marks    marks 1\n",
       "count    8.00000   7.000000   7.000000\n",
       "mean   104.50000  42.428571  44.142857\n",
       "std      2.44949  10.228345   5.177791\n",
       "min    101.00000  20.000000  35.000000\n",
       "25%    102.75000  43.000000  42.000000\n",
       "50%    104.50000  47.000000  46.000000\n",
       "75%    106.25000  47.500000  47.500000\n",
       "max    108.00000  49.000000  49.000000"
      ]
     },
     "execution_count": 7,
     "metadata": {},
     "output_type": "execute_result"
    }
   ],
   "source": [
    "f.describe()"
   ]
  },
  {
   "cell_type": "code",
   "execution_count": 8,
   "id": "96191c3a",
   "metadata": {},
   "outputs": [],
   "source": [
    "c=f.columns"
   ]
  },
  {
   "cell_type": "code",
   "execution_count": 9,
   "id": "27e614f1",
   "metadata": {},
   "outputs": [
    {
     "name": "stdout",
     "output_type": "stream",
     "text": [
      "Index(['sr ', 'name', 'sub', 'marks', 'marks 1'], dtype='object')\n"
     ]
    }
   ],
   "source": [
    "print(c)"
   ]
  },
  {
   "cell_type": "code",
   "execution_count": 10,
   "id": "46507bcc",
   "metadata": {},
   "outputs": [
    {
     "data": {
      "text/plain": [
       "sr         0\n",
       "name       0\n",
       "sub        0\n",
       "marks      1\n",
       "marks 1    1\n",
       "dtype: int64"
      ]
     },
     "execution_count": 10,
     "metadata": {},
     "output_type": "execute_result"
    }
   ],
   "source": [
    "f.isnull().sum()"
   ]
  },
  {
   "cell_type": "code",
   "execution_count": 11,
   "id": "fe6e442d",
   "metadata": {},
   "outputs": [],
   "source": [
    "f.dropna(inplace =True)"
   ]
  },
  {
   "cell_type": "code",
   "execution_count": 12,
   "id": "2c0eab18",
   "metadata": {},
   "outputs": [
    {
     "data": {
      "text/plain": [
       "(6, 5)"
      ]
     },
     "execution_count": 12,
     "metadata": {},
     "output_type": "execute_result"
    }
   ],
   "source": [
    "f.shape"
   ]
  },
  {
   "cell_type": "code",
   "execution_count": 13,
   "id": "b9c68f79",
   "metadata": {},
   "outputs": [
    {
     "data": {
      "text/plain": [
       "sr         0\n",
       "name       0\n",
       "sub        0\n",
       "marks      0\n",
       "marks 1    0\n",
       "dtype: int64"
      ]
     },
     "execution_count": 13,
     "metadata": {},
     "output_type": "execute_result"
    }
   ],
   "source": [
    "f.isnull().sum()\n"
   ]
  },
  {
   "cell_type": "code",
   "execution_count": 14,
   "id": "aad6c6e8",
   "metadata": {},
   "outputs": [
    {
     "name": "stdout",
     "output_type": "stream",
     "text": [
      "0    45.0\n",
      "1    48.0\n",
      "2    41.0\n",
      "3    49.0\n",
      "5    47.0\n",
      "6    20.0\n",
      "Name: marks, dtype: float64\n"
     ]
    }
   ],
   "source": [
    "r=f['marks']\n",
    "print(r)"
   ]
  },
  {
   "cell_type": "code",
   "execution_count": 15,
   "id": "1bedcf73",
   "metadata": {},
   "outputs": [
    {
     "data": {
      "text/plain": [
       "pandas.core.series.Series"
      ]
     },
     "execution_count": 15,
     "metadata": {},
     "output_type": "execute_result"
    }
   ],
   "source": [
    "type(r)"
   ]
  },
  {
   "cell_type": "code",
   "execution_count": 16,
   "id": "fd566f13",
   "metadata": {},
   "outputs": [
    {
     "data": {
      "text/plain": [
       "41.666666666666664"
      ]
     },
     "execution_count": 16,
     "metadata": {},
     "output_type": "execute_result"
    }
   ],
   "source": [
    "r.mean()"
   ]
  },
  {
   "cell_type": "code",
   "execution_count": 17,
   "id": "baec3723",
   "metadata": {},
   "outputs": [
    {
     "name": "stdout",
     "output_type": "stream",
     "text": [
      "     name  sub\n",
      "0  harsh   daa\n",
      "1   mihir  ccv\n",
      "2   dioen  ccn\n",
      "3    zeel   cs\n",
      "5  harshu  jee\n",
      "6  harshd  zee\n"
     ]
    }
   ],
   "source": [
    "r2=f[['name','sub']]\n",
    "print(r2)"
   ]
  },
  {
   "cell_type": "code",
   "execution_count": 18,
   "id": "ac913c6e",
   "metadata": {},
   "outputs": [
    {
     "data": {
      "text/plain": [
       "pandas.core.frame.DataFrame"
      ]
     },
     "execution_count": 18,
     "metadata": {},
     "output_type": "execute_result"
    }
   ],
   "source": [
    "type(r2)"
   ]
  },
  {
   "cell_type": "code",
   "execution_count": 19,
   "id": "debd1c6c",
   "metadata": {},
   "outputs": [
    {
     "data": {
      "text/plain": [
       "0    45.0\n",
       "1    48.0\n",
       "2    41.0\n",
       "3    49.0\n",
       "5    47.0\n",
       "6    20.0\n",
       "Name: marks, dtype: float64"
      ]
     },
     "execution_count": 19,
     "metadata": {},
     "output_type": "execute_result"
    }
   ],
   "source": [
    "r.fillna(r.mean,inplace=True)\n",
    "r"
   ]
  },
  {
   "cell_type": "code",
   "execution_count": 20,
   "id": "f96d0690",
   "metadata": {},
   "outputs": [
    {
     "name": "stdout",
     "output_type": "stream",
     "text": [
      "<class 'pandas.core.frame.DataFrame'>\n",
      "Int64Index: 6 entries, 0 to 6\n",
      "Data columns (total 5 columns):\n",
      " #   Column   Non-Null Count  Dtype  \n",
      "---  ------   --------------  -----  \n",
      " 0   sr       6 non-null      int64  \n",
      " 1   name     6 non-null      object \n",
      " 2   sub      6 non-null      object \n",
      " 3   marks    6 non-null      float64\n",
      " 4   marks 1  6 non-null      float64\n",
      "dtypes: float64(2), int64(1), object(2)\n",
      "memory usage: 288.0+ bytes\n"
     ]
    }
   ],
   "source": [
    "f.info()"
   ]
  },
  {
   "cell_type": "code",
   "execution_count": 21,
   "id": "ee6fa02e",
   "metadata": {},
   "outputs": [
    {
     "name": "stdout",
     "output_type": "stream",
     "text": [
      "0    47.0\n",
      "1    48.0\n",
      "2    49.0\n",
      "3    45.0\n",
      "5    35.0\n",
      "6    39.0\n",
      "Name: marks 1, dtype: float64\n"
     ]
    }
   ],
   "source": [
    "m=f['marks 1']\n",
    "print(m)"
   ]
  },
  {
   "cell_type": "code",
   "execution_count": 22,
   "id": "3838246f",
   "metadata": {},
   "outputs": [
    {
     "data": {
      "text/plain": [
       "0"
      ]
     },
     "execution_count": 22,
     "metadata": {},
     "output_type": "execute_result"
    }
   ],
   "source": [
    "m.isnull().sum()"
   ]
  },
  {
   "cell_type": "code",
   "execution_count": 23,
   "id": "7eb0f6c1",
   "metadata": {},
   "outputs": [
    {
     "data": {
      "text/plain": [
       "43.833333333333336"
      ]
     },
     "execution_count": 23,
     "metadata": {},
     "output_type": "execute_result"
    }
   ],
   "source": [
    "m.mean()"
   ]
  },
  {
   "cell_type": "code",
   "execution_count": 24,
   "id": "f7b7bb17",
   "metadata": {},
   "outputs": [],
   "source": [
    "m.fillna(m.mean,inplace=True)"
   ]
  },
  {
   "cell_type": "code",
   "execution_count": 25,
   "id": "29c43008",
   "metadata": {},
   "outputs": [
    {
     "data": {
      "text/plain": [
       "0"
      ]
     },
     "execution_count": 25,
     "metadata": {},
     "output_type": "execute_result"
    }
   ],
   "source": [
    "m.isnull().sum()"
   ]
  },
  {
   "cell_type": "code",
   "execution_count": 26,
   "id": "dbefa436",
   "metadata": {},
   "outputs": [
    {
     "name": "stdout",
     "output_type": "stream",
     "text": [
      "<class 'pandas.core.frame.DataFrame'>\n",
      "Int64Index: 6 entries, 0 to 6\n",
      "Data columns (total 5 columns):\n",
      " #   Column   Non-Null Count  Dtype  \n",
      "---  ------   --------------  -----  \n",
      " 0   sr       6 non-null      int64  \n",
      " 1   name     6 non-null      object \n",
      " 2   sub      6 non-null      object \n",
      " 3   marks    6 non-null      float64\n",
      " 4   marks 1  6 non-null      float64\n",
      "dtypes: float64(2), int64(1), object(2)\n",
      "memory usage: 288.0+ bytes\n"
     ]
    }
   ],
   "source": [
    "f.info()"
   ]
  },
  {
   "cell_type": "code",
   "execution_count": 27,
   "id": "08d08e8a",
   "metadata": {},
   "outputs": [
    {
     "data": {
      "text/plain": [
       "(6, 5)"
      ]
     },
     "execution_count": 27,
     "metadata": {},
     "output_type": "execute_result"
    }
   ],
   "source": [
    "f.shape"
   ]
  },
  {
   "cell_type": "code",
   "execution_count": 28,
   "id": "3fe9fe00",
   "metadata": {},
   "outputs": [
    {
     "name": "stderr",
     "output_type": "stream",
     "text": [
      "C:\\Users\\DELL\\AppData\\Local\\Temp\\ipykernel_12216\\2201779115.py:1: FutureWarning: The frame.append method is deprecated and will be removed from pandas in a future version. Use pandas.concat instead.\n",
      "  df3= f.append(f)\n"
     ]
    },
    {
     "data": {
      "text/html": [
       "<div>\n",
       "<style scoped>\n",
       "    .dataframe tbody tr th:only-of-type {\n",
       "        vertical-align: middle;\n",
       "    }\n",
       "\n",
       "    .dataframe tbody tr th {\n",
       "        vertical-align: top;\n",
       "    }\n",
       "\n",
       "    .dataframe thead th {\n",
       "        text-align: right;\n",
       "    }\n",
       "</style>\n",
       "<table border=\"1\" class=\"dataframe\">\n",
       "  <thead>\n",
       "    <tr style=\"text-align: right;\">\n",
       "      <th></th>\n",
       "      <th>sr</th>\n",
       "      <th>name</th>\n",
       "      <th>sub</th>\n",
       "      <th>marks</th>\n",
       "      <th>marks 1</th>\n",
       "    </tr>\n",
       "  </thead>\n",
       "  <tbody>\n",
       "    <tr>\n",
       "      <th>0</th>\n",
       "      <td>101</td>\n",
       "      <td>harsh</td>\n",
       "      <td>daa</td>\n",
       "      <td>45.0</td>\n",
       "      <td>47.0</td>\n",
       "    </tr>\n",
       "    <tr>\n",
       "      <th>1</th>\n",
       "      <td>102</td>\n",
       "      <td>mihir</td>\n",
       "      <td>ccv</td>\n",
       "      <td>48.0</td>\n",
       "      <td>48.0</td>\n",
       "    </tr>\n",
       "    <tr>\n",
       "      <th>2</th>\n",
       "      <td>103</td>\n",
       "      <td>dioen</td>\n",
       "      <td>ccn</td>\n",
       "      <td>41.0</td>\n",
       "      <td>49.0</td>\n",
       "    </tr>\n",
       "    <tr>\n",
       "      <th>3</th>\n",
       "      <td>104</td>\n",
       "      <td>zeel</td>\n",
       "      <td>cs</td>\n",
       "      <td>49.0</td>\n",
       "      <td>45.0</td>\n",
       "    </tr>\n",
       "    <tr>\n",
       "      <th>5</th>\n",
       "      <td>106</td>\n",
       "      <td>harshu</td>\n",
       "      <td>jee</td>\n",
       "      <td>47.0</td>\n",
       "      <td>35.0</td>\n",
       "    </tr>\n",
       "    <tr>\n",
       "      <th>6</th>\n",
       "      <td>107</td>\n",
       "      <td>harshd</td>\n",
       "      <td>zee</td>\n",
       "      <td>20.0</td>\n",
       "      <td>39.0</td>\n",
       "    </tr>\n",
       "    <tr>\n",
       "      <th>0</th>\n",
       "      <td>101</td>\n",
       "      <td>harsh</td>\n",
       "      <td>daa</td>\n",
       "      <td>45.0</td>\n",
       "      <td>47.0</td>\n",
       "    </tr>\n",
       "    <tr>\n",
       "      <th>1</th>\n",
       "      <td>102</td>\n",
       "      <td>mihir</td>\n",
       "      <td>ccv</td>\n",
       "      <td>48.0</td>\n",
       "      <td>48.0</td>\n",
       "    </tr>\n",
       "    <tr>\n",
       "      <th>2</th>\n",
       "      <td>103</td>\n",
       "      <td>dioen</td>\n",
       "      <td>ccn</td>\n",
       "      <td>41.0</td>\n",
       "      <td>49.0</td>\n",
       "    </tr>\n",
       "    <tr>\n",
       "      <th>3</th>\n",
       "      <td>104</td>\n",
       "      <td>zeel</td>\n",
       "      <td>cs</td>\n",
       "      <td>49.0</td>\n",
       "      <td>45.0</td>\n",
       "    </tr>\n",
       "    <tr>\n",
       "      <th>5</th>\n",
       "      <td>106</td>\n",
       "      <td>harshu</td>\n",
       "      <td>jee</td>\n",
       "      <td>47.0</td>\n",
       "      <td>35.0</td>\n",
       "    </tr>\n",
       "    <tr>\n",
       "      <th>6</th>\n",
       "      <td>107</td>\n",
       "      <td>harshd</td>\n",
       "      <td>zee</td>\n",
       "      <td>20.0</td>\n",
       "      <td>39.0</td>\n",
       "    </tr>\n",
       "  </tbody>\n",
       "</table>\n",
       "</div>"
      ],
      "text/plain": [
       "   sr     name  sub  marks  marks 1\n",
       "0  101  harsh   daa   45.0     47.0\n",
       "1  102   mihir  ccv   48.0     48.0\n",
       "2  103   dioen  ccn   41.0     49.0\n",
       "3  104    zeel   cs   49.0     45.0\n",
       "5  106  harshu  jee   47.0     35.0\n",
       "6  107  harshd  zee   20.0     39.0\n",
       "0  101  harsh   daa   45.0     47.0\n",
       "1  102   mihir  ccv   48.0     48.0\n",
       "2  103   dioen  ccn   41.0     49.0\n",
       "3  104    zeel   cs   49.0     45.0\n",
       "5  106  harshu  jee   47.0     35.0\n",
       "6  107  harshd  zee   20.0     39.0"
      ]
     },
     "execution_count": 28,
     "metadata": {},
     "output_type": "execute_result"
    }
   ],
   "source": [
    "df3= f.append(f)\n",
    "df3\n"
   ]
  },
  {
   "cell_type": "code",
   "execution_count": 29,
   "id": "f222ec3d",
   "metadata": {},
   "outputs": [
    {
     "data": {
      "text/plain": [
       "(12, 5)"
      ]
     },
     "execution_count": 29,
     "metadata": {},
     "output_type": "execute_result"
    }
   ],
   "source": [
    "df3.shape"
   ]
  },
  {
   "cell_type": "code",
   "execution_count": 30,
   "id": "114ddb64",
   "metadata": {},
   "outputs": [
    {
     "data": {
      "text/html": [
       "<div>\n",
       "<style scoped>\n",
       "    .dataframe tbody tr th:only-of-type {\n",
       "        vertical-align: middle;\n",
       "    }\n",
       "\n",
       "    .dataframe tbody tr th {\n",
       "        vertical-align: top;\n",
       "    }\n",
       "\n",
       "    .dataframe thead th {\n",
       "        text-align: right;\n",
       "    }\n",
       "</style>\n",
       "<table border=\"1\" class=\"dataframe\">\n",
       "  <thead>\n",
       "    <tr style=\"text-align: right;\">\n",
       "      <th></th>\n",
       "      <th>sr</th>\n",
       "      <th>name</th>\n",
       "      <th>sub</th>\n",
       "      <th>marks</th>\n",
       "      <th>marks 1</th>\n",
       "    </tr>\n",
       "  </thead>\n",
       "  <tbody>\n",
       "    <tr>\n",
       "      <th>0</th>\n",
       "      <td>101</td>\n",
       "      <td>harsh</td>\n",
       "      <td>daa</td>\n",
       "      <td>45.0</td>\n",
       "      <td>47.0</td>\n",
       "    </tr>\n",
       "    <tr>\n",
       "      <th>1</th>\n",
       "      <td>102</td>\n",
       "      <td>mihir</td>\n",
       "      <td>ccv</td>\n",
       "      <td>48.0</td>\n",
       "      <td>48.0</td>\n",
       "    </tr>\n",
       "    <tr>\n",
       "      <th>2</th>\n",
       "      <td>103</td>\n",
       "      <td>dioen</td>\n",
       "      <td>ccn</td>\n",
       "      <td>41.0</td>\n",
       "      <td>49.0</td>\n",
       "    </tr>\n",
       "    <tr>\n",
       "      <th>3</th>\n",
       "      <td>104</td>\n",
       "      <td>zeel</td>\n",
       "      <td>cs</td>\n",
       "      <td>49.0</td>\n",
       "      <td>45.0</td>\n",
       "    </tr>\n",
       "    <tr>\n",
       "      <th>5</th>\n",
       "      <td>106</td>\n",
       "      <td>harshu</td>\n",
       "      <td>jee</td>\n",
       "      <td>47.0</td>\n",
       "      <td>35.0</td>\n",
       "    </tr>\n",
       "    <tr>\n",
       "      <th>6</th>\n",
       "      <td>107</td>\n",
       "      <td>harshd</td>\n",
       "      <td>zee</td>\n",
       "      <td>20.0</td>\n",
       "      <td>39.0</td>\n",
       "    </tr>\n",
       "  </tbody>\n",
       "</table>\n",
       "</div>"
      ],
      "text/plain": [
       "   sr     name  sub  marks  marks 1\n",
       "0  101  harsh   daa   45.0     47.0\n",
       "1  102   mihir  ccv   48.0     48.0\n",
       "2  103   dioen  ccn   41.0     49.0\n",
       "3  104    zeel   cs   49.0     45.0\n",
       "5  106  harshu  jee   47.0     35.0\n",
       "6  107  harshd  zee   20.0     39.0"
      ]
     },
     "execution_count": 30,
     "metadata": {},
     "output_type": "execute_result"
    }
   ],
   "source": [
    "df3.drop_duplicates()"
   ]
  },
  {
   "cell_type": "markdown",
   "id": "30a4b5cc",
   "metadata": {},
   "source": []
  },
  {
   "cell_type": "code",
   "execution_count": 31,
   "id": "d2b6c55a",
   "metadata": {},
   "outputs": [],
   "source": [
    "   #new item"
   ]
  },
  {
   "cell_type": "code",
   "execution_count": 32,
   "id": "ca1d1656",
   "metadata": {},
   "outputs": [
    {
     "data": {
      "text/html": [
       "<div>\n",
       "<style scoped>\n",
       "    .dataframe tbody tr th:only-of-type {\n",
       "        vertical-align: middle;\n",
       "    }\n",
       "\n",
       "    .dataframe tbody tr th {\n",
       "        vertical-align: top;\n",
       "    }\n",
       "\n",
       "    .dataframe thead th {\n",
       "        text-align: right;\n",
       "    }\n",
       "</style>\n",
       "<table border=\"1\" class=\"dataframe\">\n",
       "  <thead>\n",
       "    <tr style=\"text-align: right;\">\n",
       "      <th></th>\n",
       "      <th>id</th>\n",
       "      <th>age</th>\n",
       "      <th>gender</th>\n",
       "      <th>group</th>\n",
       "      <th>math_score</th>\n",
       "    </tr>\n",
       "  </thead>\n",
       "  <tbody>\n",
       "    <tr>\n",
       "      <th>0</th>\n",
       "      <td>101</td>\n",
       "      <td>10</td>\n",
       "      <td>M</td>\n",
       "      <td>first</td>\n",
       "      <td>41.5</td>\n",
       "    </tr>\n",
       "    <tr>\n",
       "      <th>1</th>\n",
       "      <td>123</td>\n",
       "      <td>12</td>\n",
       "      <td>F</td>\n",
       "      <td>second</td>\n",
       "      <td>43.0</td>\n",
       "    </tr>\n",
       "    <tr>\n",
       "      <th>2</th>\n",
       "      <td>139</td>\n",
       "      <td>13</td>\n",
       "      <td>F</td>\n",
       "      <td>first</td>\n",
       "      <td>38.0</td>\n",
       "    </tr>\n",
       "    <tr>\n",
       "      <th>3</th>\n",
       "      <td>112</td>\n",
       "      <td>11</td>\n",
       "      <td>M</td>\n",
       "      <td>third</td>\n",
       "      <td>47.0</td>\n",
       "    </tr>\n",
       "    <tr>\n",
       "      <th>4</th>\n",
       "      <td>133</td>\n",
       "      <td>12</td>\n",
       "      <td>M</td>\n",
       "      <td>third</td>\n",
       "      <td>29.5</td>\n",
       "    </tr>\n",
       "  </tbody>\n",
       "</table>\n",
       "</div>"
      ],
      "text/plain": [
       "    id  age gender   group  math_score\n",
       "0  101   10      M   first        41.5\n",
       "1  123   12      F  second        43.0\n",
       "2  139   13      F   first        38.0\n",
       "3  112   11      M   third        47.0\n",
       "4  133   12      M   third        29.5"
      ]
     },
     "execution_count": 32,
     "metadata": {},
     "output_type": "execute_result"
    }
   ],
   "source": [
    "  #Importing Pandas Library\n",
    "import pandas as pd\n",
    "\n",
    "#Creating a Sample DataFrame\n",
    "data = pd.DataFrame({\n",
    "        'id': [ 101, 123, 139, 112, 133],\n",
    "        'age': [ 10, 12, 13, 11, 12],\n",
    "        'gender': [ 'M', 'F', 'F', 'M', 'M'],\n",
    "        'group': [ 'first', 'second', 'first', 'third', 'third'],\n",
    "        'math_score': [ 41.5, 43, 38, 47, 29.5]\n",
    "    })\n",
    "\n",
    "data"
   ]
  },
  {
   "cell_type": "code",
   "execution_count": 33,
   "id": "18641083",
   "metadata": {},
   "outputs": [
    {
     "data": {
      "text/html": [
       "<div>\n",
       "<style scoped>\n",
       "    .dataframe tbody tr th:only-of-type {\n",
       "        vertical-align: middle;\n",
       "    }\n",
       "\n",
       "    .dataframe tbody tr th {\n",
       "        vertical-align: top;\n",
       "    }\n",
       "\n",
       "    .dataframe thead th {\n",
       "        text-align: right;\n",
       "    }\n",
       "</style>\n",
       "<table border=\"1\" class=\"dataframe\">\n",
       "  <thead>\n",
       "    <tr style=\"text-align: right;\">\n",
       "      <th></th>\n",
       "      <th>id</th>\n",
       "      <th>age</th>\n",
       "      <th>gender</th>\n",
       "      <th>group</th>\n",
       "      <th>math_score</th>\n",
       "      <th>Marks</th>\n",
       "    </tr>\n",
       "  </thead>\n",
       "  <tbody>\n",
       "    <tr>\n",
       "      <th>0</th>\n",
       "      <td>101</td>\n",
       "      <td>10</td>\n",
       "      <td>M</td>\n",
       "      <td>first</td>\n",
       "      <td>41.5</td>\n",
       "      <td>40</td>\n",
       "    </tr>\n",
       "    <tr>\n",
       "      <th>1</th>\n",
       "      <td>123</td>\n",
       "      <td>12</td>\n",
       "      <td>F</td>\n",
       "      <td>second</td>\n",
       "      <td>43.0</td>\n",
       "      <td>38</td>\n",
       "    </tr>\n",
       "    <tr>\n",
       "      <th>2</th>\n",
       "      <td>139</td>\n",
       "      <td>13</td>\n",
       "      <td>F</td>\n",
       "      <td>first</td>\n",
       "      <td>38.0</td>\n",
       "      <td>33</td>\n",
       "    </tr>\n",
       "    <tr>\n",
       "      <th>3</th>\n",
       "      <td>112</td>\n",
       "      <td>11</td>\n",
       "      <td>M</td>\n",
       "      <td>third</td>\n",
       "      <td>47.0</td>\n",
       "      <td>30</td>\n",
       "    </tr>\n",
       "    <tr>\n",
       "      <th>4</th>\n",
       "      <td>133</td>\n",
       "      <td>12</td>\n",
       "      <td>M</td>\n",
       "      <td>third</td>\n",
       "      <td>29.5</td>\n",
       "      <td></td>\n",
       "    </tr>\n",
       "  </tbody>\n",
       "</table>\n",
       "</div>"
      ],
      "text/plain": [
       "    id  age gender   group  math_score Marks\n",
       "0  101   10      M   first        41.5    40\n",
       "1  123   12      F  second        43.0    38\n",
       "2  139   13      F   first        38.0    33\n",
       "3  112   11      M   third        47.0    30\n",
       "4  133   12      M   third        29.5      "
      ]
     },
     "execution_count": 33,
     "metadata": {},
     "output_type": "execute_result"
    }
   ],
   "source": [
    "#Adding a column using List\n",
    "values = [40, 38, 33, 30,'']\n",
    "\n",
    "data['Marks'] = values\n",
    "data"
   ]
  },
  {
   "cell_type": "code",
   "execution_count": 34,
   "id": "13b07f51",
   "metadata": {},
   "outputs": [
    {
     "name": "stdout",
     "output_type": "stream",
     "text": [
      "    id  age gender   group  math_score Marks  Marks_Maths\n",
      "0  101   10      M   first        41.5    40          NaN\n",
      "1  123   12      F  second        43.0    38         40.0\n",
      "2  139   13      F   first        38.0    33         38.0\n",
      "3  112   11      M   third        47.0    30         32.5\n",
      "4  133   12      M   third        29.5               27.0\n"
     ]
    }
   ],
   "source": [
    "data['Marks_Maths'] = pd.Series([40, 38, 32.5, 27, 30],index=[1, 2, 3, 4, 5])\n",
    "print(data)"
   ]
  },
  {
   "cell_type": "code",
   "execution_count": 35,
   "id": "5f3a4360",
   "metadata": {},
   "outputs": [
    {
     "data": {
      "text/html": [
       "<div>\n",
       "<style scoped>\n",
       "    .dataframe tbody tr th:only-of-type {\n",
       "        vertical-align: middle;\n",
       "    }\n",
       "\n",
       "    .dataframe tbody tr th {\n",
       "        vertical-align: top;\n",
       "    }\n",
       "\n",
       "    .dataframe thead th {\n",
       "        text-align: right;\n",
       "    }\n",
       "</style>\n",
       "<table border=\"1\" class=\"dataframe\">\n",
       "  <thead>\n",
       "    <tr style=\"text-align: right;\">\n",
       "      <th></th>\n",
       "      <th>id</th>\n",
       "      <th>age</th>\n",
       "      <th>gender</th>\n",
       "      <th>group</th>\n",
       "      <th>math_score</th>\n",
       "      <th>Marks</th>\n",
       "      <th>Marks_Maths</th>\n",
       "      <th>DBMS_score</th>\n",
       "      <th>Python_score</th>\n",
       "    </tr>\n",
       "  </thead>\n",
       "  <tbody>\n",
       "    <tr>\n",
       "      <th>0</th>\n",
       "      <td>101</td>\n",
       "      <td>10</td>\n",
       "      <td>M</td>\n",
       "      <td>first</td>\n",
       "      <td>41.5</td>\n",
       "      <td>40</td>\n",
       "      <td>NaN</td>\n",
       "      <td>40.5</td>\n",
       "      <td>48.5</td>\n",
       "    </tr>\n",
       "    <tr>\n",
       "      <th>1</th>\n",
       "      <td>123</td>\n",
       "      <td>12</td>\n",
       "      <td>F</td>\n",
       "      <td>second</td>\n",
       "      <td>43.0</td>\n",
       "      <td>38</td>\n",
       "      <td>40.0</td>\n",
       "      <td>38.5</td>\n",
       "      <td>42.0</td>\n",
       "    </tr>\n",
       "    <tr>\n",
       "      <th>2</th>\n",
       "      <td>139</td>\n",
       "      <td>13</td>\n",
       "      <td>F</td>\n",
       "      <td>first</td>\n",
       "      <td>38.0</td>\n",
       "      <td>33</td>\n",
       "      <td>38.0</td>\n",
       "      <td>33.0</td>\n",
       "      <td>41.0</td>\n",
       "    </tr>\n",
       "    <tr>\n",
       "      <th>3</th>\n",
       "      <td>112</td>\n",
       "      <td>11</td>\n",
       "      <td>M</td>\n",
       "      <td>third</td>\n",
       "      <td>47.0</td>\n",
       "      <td>30</td>\n",
       "      <td>32.5</td>\n",
       "      <td>28.0</td>\n",
       "      <td>37.0</td>\n",
       "    </tr>\n",
       "    <tr>\n",
       "      <th>4</th>\n",
       "      <td>133</td>\n",
       "      <td>12</td>\n",
       "      <td>M</td>\n",
       "      <td>third</td>\n",
       "      <td>29.5</td>\n",
       "      <td></td>\n",
       "      <td>27.0</td>\n",
       "      <td>31.0</td>\n",
       "      <td>43.0</td>\n",
       "    </tr>\n",
       "  </tbody>\n",
       "</table>\n",
       "</div>"
      ],
      "text/plain": [
       "    id  age gender   group  math_score Marks  Marks_Maths  DBMS_score  \\\n",
       "0  101   10      M   first        41.5    40          NaN        40.5   \n",
       "1  123   12      F  second        43.0    38         40.0        38.5   \n",
       "2  139   13      F   first        38.0    33         38.0        33.0   \n",
       "3  112   11      M   third        47.0    30         32.5        28.0   \n",
       "4  133   12      M   third        29.5               27.0        31.0   \n",
       "\n",
       "   Python_score  \n",
       "0          48.5  \n",
       "1          42.0  \n",
       "2          41.0  \n",
       "3          37.0  \n",
       "4          43.0  "
      ]
     },
     "execution_count": 35,
     "metadata": {},
     "output_type": "execute_result"
    }
   ],
   "source": [
    "#Adding columns using assign()\n",
    "s1 = pd.Series([40.5, 38.5, 33, 28, 31], index=[0, 1, 2, 3, 4])\n",
    "s2 = pd.Series([48.5, 42, 41, 37, 43], index=[0, 1, 2, 3, 4])\n",
    "\n",
    "data.assign(DBMS_score=s1.values, Python_score=s2.values)"
   ]
  },
  {
   "cell_type": "code",
   "execution_count": 36,
   "id": "6eabe1c2",
   "metadata": {},
   "outputs": [
    {
     "name": "stdout",
     "output_type": "stream",
     "text": [
      "    id  age gender   group  math_score Marks  Marks_Maths  Cloud_score\n",
      "0  101   10      M   first        41.5    40          NaN         48.5\n",
      "1  123   12      F  second        43.0    38         40.0         42.0\n",
      "2  139   13      F   first        38.0    33         38.0         41.0\n",
      "3  112   11      M   third        47.0    30         32.5         37.0\n",
      "4  133   12      M   third        29.5               27.0         43.0\n"
     ]
    }
   ],
   "source": [
    "#Adding a column using insert()\n",
    "#insert a new column in a specific position or index.\n",
    "data.insert(len(data.columns), 'Cloud_score', s2.values)\n",
    "print(data)"
   ]
  },
  {
   "cell_type": "code",
   "execution_count": 37,
   "id": "2250c954",
   "metadata": {},
   "outputs": [
    {
     "name": "stdout",
     "output_type": "stream",
     "text": [
      "    id  age gender   group  Python_score  math_score Marks  Marks_Maths  \\\n",
      "0  101   10      M   first          48.5        41.5    40          NaN   \n",
      "1  123   12      F  second          42.0        43.0    38         40.0   \n",
      "2  139   13      F   first          41.0        38.0    33         38.0   \n",
      "3  112   11      M   third          37.0        47.0    30         32.5   \n",
      "4  133   12      M   third          43.0        29.5               27.0   \n",
      "\n",
      "   Cloud_score  \n",
      "0         48.5  \n",
      "1         42.0  \n",
      "2         41.0  \n",
      "3         37.0  \n",
      "4         43.0  \n"
     ]
    }
   ],
   "source": [
    "data.insert(4, 'Python_score', s2.values)\n",
    "print(data)"
   ]
  },
  {
   "cell_type": "code",
   "execution_count": 38,
   "id": "13609d28",
   "metadata": {},
   "outputs": [
    {
     "name": "stdout",
     "output_type": "stream",
     "text": [
      "    id  age gender   group  Python_score  Python_score  math_score Marks  \\\n",
      "0  101   10      M   first          48.5          43.0        41.5    40   \n",
      "1  123   12      F  second          42.0          34.0        43.0    38   \n",
      "2  139   13      F   first          41.0          33.5        38.0    33   \n",
      "3  112   11      M   third          37.0          29.0        47.0    30   \n",
      "4  133   12      M   third          43.0          47.0        29.5         \n",
      "\n",
      "   Marks_Maths  Cloud_score  \n",
      "0          NaN         48.5  \n",
      "1         40.0         42.0  \n",
      "2         38.0         41.0  \n",
      "3         32.5         37.0  \n",
      "4         27.0         43.0  \n"
     ]
    }
   ],
   "source": [
    "#Adding duplicate columns using insert()\n",
    "#The allow_duplicates parameter is set to False by default and returns a ValueError if the new column has a duplicate column name.\n",
    "s3 = pd.Series([43, 34, 33.5, 29, 47], index=[0, 1, 2, 3, 4])\n",
    "\n",
    "data.insert(5, 'Python_score', s3.values, allow_duplicates=True)\n",
    "print(data)"
   ]
  },
  {
   "cell_type": "code",
   "execution_count": 39,
   "id": "ec106d28",
   "metadata": {},
   "outputs": [
    {
     "data": {
      "text/html": [
       "<div>\n",
       "<style scoped>\n",
       "    .dataframe tbody tr th:only-of-type {\n",
       "        vertical-align: middle;\n",
       "    }\n",
       "\n",
       "    .dataframe tbody tr th {\n",
       "        vertical-align: top;\n",
       "    }\n",
       "\n",
       "    .dataframe thead th {\n",
       "        text-align: right;\n",
       "    }\n",
       "</style>\n",
       "<table border=\"1\" class=\"dataframe\">\n",
       "  <thead>\n",
       "    <tr style=\"text-align: right;\">\n",
       "      <th></th>\n",
       "      <th>id</th>\n",
       "      <th>age</th>\n",
       "      <th>gender</th>\n",
       "      <th>group</th>\n",
       "      <th>Python_score</th>\n",
       "      <th>Python_score</th>\n",
       "      <th>math_score</th>\n",
       "      <th>Marks</th>\n",
       "      <th>Marks_Maths</th>\n",
       "      <th>Cloud_score</th>\n",
       "      <th>avg_score</th>\n",
       "    </tr>\n",
       "  </thead>\n",
       "  <tbody>\n",
       "    <tr>\n",
       "      <th>0</th>\n",
       "      <td>101</td>\n",
       "      <td>10</td>\n",
       "      <td>M</td>\n",
       "      <td>first</td>\n",
       "      <td>48.5</td>\n",
       "      <td>43.0</td>\n",
       "      <td>41.5</td>\n",
       "      <td>40</td>\n",
       "      <td>NaN</td>\n",
       "      <td>48.5</td>\n",
       "      <td>NaT</td>\n",
       "    </tr>\n",
       "    <tr>\n",
       "      <th>1</th>\n",
       "      <td>123</td>\n",
       "      <td>12</td>\n",
       "      <td>F</td>\n",
       "      <td>second</td>\n",
       "      <td>42.0</td>\n",
       "      <td>34.0</td>\n",
       "      <td>43.0</td>\n",
       "      <td>38</td>\n",
       "      <td>40.0</td>\n",
       "      <td>42.0</td>\n",
       "      <td>NaT</td>\n",
       "    </tr>\n",
       "    <tr>\n",
       "      <th>2</th>\n",
       "      <td>139</td>\n",
       "      <td>13</td>\n",
       "      <td>F</td>\n",
       "      <td>first</td>\n",
       "      <td>41.0</td>\n",
       "      <td>33.5</td>\n",
       "      <td>38.0</td>\n",
       "      <td>33</td>\n",
       "      <td>38.0</td>\n",
       "      <td>41.0</td>\n",
       "      <td>NaT</td>\n",
       "    </tr>\n",
       "    <tr>\n",
       "      <th>3</th>\n",
       "      <td>112</td>\n",
       "      <td>11</td>\n",
       "      <td>M</td>\n",
       "      <td>third</td>\n",
       "      <td>37.0</td>\n",
       "      <td>29.0</td>\n",
       "      <td>47.0</td>\n",
       "      <td>30</td>\n",
       "      <td>32.5</td>\n",
       "      <td>37.0</td>\n",
       "      <td>NaT</td>\n",
       "    </tr>\n",
       "    <tr>\n",
       "      <th>4</th>\n",
       "      <td>133</td>\n",
       "      <td>12</td>\n",
       "      <td>M</td>\n",
       "      <td>third</td>\n",
       "      <td>43.0</td>\n",
       "      <td>47.0</td>\n",
       "      <td>29.5</td>\n",
       "      <td></td>\n",
       "      <td>27.0</td>\n",
       "      <td>43.0</td>\n",
       "      <td>NaT</td>\n",
       "    </tr>\n",
       "  </tbody>\n",
       "</table>\n",
       "</div>"
      ],
      "text/plain": [
       "    id  age gender   group  Python_score  Python_score  math_score Marks  \\\n",
       "0  101   10      M   first          48.5          43.0        41.5    40   \n",
       "1  123   12      F  second          42.0          34.0        43.0    38   \n",
       "2  139   13      F   first          41.0          33.5        38.0    33   \n",
       "3  112   11      M   third          37.0          29.0        47.0    30   \n",
       "4  133   12      M   third          43.0          47.0        29.5         \n",
       "\n",
       "   Marks_Maths  Cloud_score avg_score  \n",
       "0          NaN         48.5       NaT  \n",
       "1         40.0         42.0       NaT  \n",
       "2         38.0         41.0       NaT  \n",
       "3         32.5         37.0       NaT  \n",
       "4         27.0         43.0       NaT  "
      ]
     },
     "execution_count": 39,
     "metadata": {},
     "output_type": "execute_result"
    }
   ],
   "source": [
    "#adding empty column\n",
    "data['avg_score'] = pd.NaT\n",
    "data\n",
    "#pd.NaT denotes missing or null values in the Pandas DataFrame."
   ]
  },
  {
   "cell_type": "code",
   "execution_count": 40,
   "id": "3d84acf6",
   "metadata": {},
   "outputs": [
    {
     "data": {
      "text/html": [
       "<div>\n",
       "<style scoped>\n",
       "    .dataframe tbody tr th:only-of-type {\n",
       "        vertical-align: middle;\n",
       "    }\n",
       "\n",
       "    .dataframe tbody tr th {\n",
       "        vertical-align: top;\n",
       "    }\n",
       "\n",
       "    .dataframe thead th {\n",
       "        text-align: right;\n",
       "    }\n",
       "</style>\n",
       "<table border=\"1\" class=\"dataframe\">\n",
       "  <thead>\n",
       "    <tr style=\"text-align: right;\">\n",
       "      <th></th>\n",
       "      <th>id</th>\n",
       "      <th>age</th>\n",
       "      <th>gender</th>\n",
       "      <th>group</th>\n",
       "      <th>Python_score</th>\n",
       "      <th>Python_score</th>\n",
       "      <th>math_score</th>\n",
       "      <th>Marks</th>\n",
       "      <th>Marks_Maths</th>\n",
       "      <th>Cloud_score</th>\n",
       "      <th>avg_score</th>\n",
       "      <th>total_score</th>\n",
       "    </tr>\n",
       "  </thead>\n",
       "  <tbody>\n",
       "    <tr>\n",
       "      <th>0</th>\n",
       "      <td>101</td>\n",
       "      <td>10</td>\n",
       "      <td>M</td>\n",
       "      <td>first</td>\n",
       "      <td>48.5</td>\n",
       "      <td>43.0</td>\n",
       "      <td>41.5</td>\n",
       "      <td>40</td>\n",
       "      <td>NaN</td>\n",
       "      <td>48.5</td>\n",
       "      <td>NaT</td>\n",
       "      <td>70</td>\n",
       "    </tr>\n",
       "    <tr>\n",
       "      <th>1</th>\n",
       "      <td>123</td>\n",
       "      <td>12</td>\n",
       "      <td>F</td>\n",
       "      <td>second</td>\n",
       "      <td>42.0</td>\n",
       "      <td>34.0</td>\n",
       "      <td>43.0</td>\n",
       "      <td>38</td>\n",
       "      <td>40.0</td>\n",
       "      <td>42.0</td>\n",
       "      <td>NaT</td>\n",
       "      <td>70</td>\n",
       "    </tr>\n",
       "    <tr>\n",
       "      <th>2</th>\n",
       "      <td>139</td>\n",
       "      <td>13</td>\n",
       "      <td>F</td>\n",
       "      <td>first</td>\n",
       "      <td>41.0</td>\n",
       "      <td>33.5</td>\n",
       "      <td>38.0</td>\n",
       "      <td>33</td>\n",
       "      <td>38.0</td>\n",
       "      <td>41.0</td>\n",
       "      <td>NaT</td>\n",
       "      <td>70</td>\n",
       "    </tr>\n",
       "    <tr>\n",
       "      <th>3</th>\n",
       "      <td>112</td>\n",
       "      <td>11</td>\n",
       "      <td>M</td>\n",
       "      <td>third</td>\n",
       "      <td>37.0</td>\n",
       "      <td>29.0</td>\n",
       "      <td>47.0</td>\n",
       "      <td>30</td>\n",
       "      <td>32.5</td>\n",
       "      <td>37.0</td>\n",
       "      <td>NaT</td>\n",
       "      <td>70</td>\n",
       "    </tr>\n",
       "    <tr>\n",
       "      <th>4</th>\n",
       "      <td>133</td>\n",
       "      <td>12</td>\n",
       "      <td>M</td>\n",
       "      <td>third</td>\n",
       "      <td>43.0</td>\n",
       "      <td>47.0</td>\n",
       "      <td>29.5</td>\n",
       "      <td></td>\n",
       "      <td>27.0</td>\n",
       "      <td>43.0</td>\n",
       "      <td>NaT</td>\n",
       "      <td>70</td>\n",
       "    </tr>\n",
       "  </tbody>\n",
       "</table>\n",
       "</div>"
      ],
      "text/plain": [
       "    id  age gender   group  Python_score  Python_score  math_score Marks  \\\n",
       "0  101   10      M   first          48.5          43.0        41.5    40   \n",
       "1  123   12      F  second          42.0          34.0        43.0    38   \n",
       "2  139   13      F   first          41.0          33.5        38.0    33   \n",
       "3  112   11      M   third          37.0          29.0        47.0    30   \n",
       "4  133   12      M   third          43.0          47.0        29.5         \n",
       "\n",
       "   Marks_Maths  Cloud_score avg_score  total_score  \n",
       "0          NaN         48.5       NaT           70  \n",
       "1         40.0         42.0       NaT           70  \n",
       "2         38.0         41.0       NaT           70  \n",
       "3         32.5         37.0       NaT           70  \n",
       "4         27.0         43.0       NaT           70  "
      ]
     },
     "execution_count": 40,
     "metadata": {},
     "output_type": "execute_result"
    }
   ],
   "source": [
    "#Adding a column with a constant value 70\n",
    "data['total_score'] = 70\n",
    "data"
   ]
  },
  {
   "cell_type": "code",
   "execution_count": null,
   "id": "565171bb",
   "metadata": {},
   "outputs": [],
   "source": []
  }
 ],
 "metadata": {
  "kernelspec": {
   "display_name": "Python 3 (ipykernel)",
   "language": "python",
   "name": "python3"
  },
  "language_info": {
   "codemirror_mode": {
    "name": "ipython",
    "version": 3
   },
   "file_extension": ".py",
   "mimetype": "text/x-python",
   "name": "python",
   "nbconvert_exporter": "python",
   "pygments_lexer": "ipython3",
   "version": "3.10.10"
  }
 },
 "nbformat": 4,
 "nbformat_minor": 5
}
