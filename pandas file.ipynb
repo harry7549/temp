{
 "cells": [
  {
   "cell_type": "code",
   "execution_count": null,
   "id": "0088b565",
   "metadata": {},
   "outputs": [],
   "source": [
    "import pandas as pd\n",
    "import numpy as np\n",
    "import matplotlib.pyplot as plt\n",
    "import seaborn as sns"
   ]
  },
  {
   "cell_type": "code",
   "execution_count": null,
   "id": "e832e17f",
   "metadata": {},
   "outputs": [],
   "source": [
    "f=pd.read_csv('book1.csv')\n",
    "print(f)"
   ]
  },
  {
   "cell_type": "code",
   "execution_count": null,
   "id": "4b5055bb",
   "metadata": {},
   "outputs": [],
   "source": [
    "f.shape"
   ]
  },
  {
   "cell_type": "code",
   "execution_count": null,
   "id": "948a00c4",
   "metadata": {},
   "outputs": [],
   "source": [
    "# the head is not count in auto first 5 record.\n",
    "f.head()"
   ]
  },
  {
   "cell_type": "code",
   "execution_count": null,
   "id": "58b380a2",
   "metadata": {},
   "outputs": [],
   "source": [
    "# the tail is not count auto last 5 record.\n",
    "f.tail()"
   ]
  },
  {
   "cell_type": "code",
   "execution_count": null,
   "id": "1e72012f",
   "metadata": {},
   "outputs": [],
   "source": [
    "f.info()"
   ]
  },
  {
   "cell_type": "code",
   "execution_count": null,
   "id": "9d33107e",
   "metadata": {},
   "outputs": [],
   "source": [
    "f.describe()"
   ]
  },
  {
   "cell_type": "code",
   "execution_count": null,
   "id": "96191c3a",
   "metadata": {},
   "outputs": [],
   "source": [
    "c=f.columns"
   ]
  },
  {
   "cell_type": "code",
   "execution_count": null,
   "id": "27e614f1",
   "metadata": {},
   "outputs": [],
   "source": [
    "print(c)"
   ]
  },
  {
   "cell_type": "code",
   "execution_count": null,
   "id": "46507bcc",
   "metadata": {},
   "outputs": [],
   "source": [
    "f.isnull().sum()"
   ]
  },
  {
   "cell_type": "code",
   "execution_count": null,
   "id": "fe6e442d",
   "metadata": {},
   "outputs": [],
   "source": [
    "f.dropna(inplace =True)"
   ]
  },
  {
   "cell_type": "code",
   "execution_count": null,
   "id": "2c0eab18",
   "metadata": {},
   "outputs": [],
   "source": [
    "f.shape"
   ]
  },
  {
   "cell_type": "code",
   "execution_count": null,
   "id": "b9c68f79",
   "metadata": {},
   "outputs": [],
   "source": [
    "f.isnull().sum()\n"
   ]
  },
  {
   "cell_type": "code",
   "execution_count": null,
   "id": "aad6c6e8",
   "metadata": {},
   "outputs": [],
   "source": [
    "r=f['marks']\n",
    "print(r)"
   ]
  },
  {
   "cell_type": "code",
   "execution_count": null,
   "id": "1bedcf73",
   "metadata": {},
   "outputs": [],
   "source": [
    "type(r)"
   ]
  },
  {
   "cell_type": "code",
   "execution_count": null,
   "id": "fd566f13",
   "metadata": {},
   "outputs": [],
   "source": [
    "r.mean()"
   ]
  },
  {
   "cell_type": "code",
   "execution_count": null,
   "id": "baec3723",
   "metadata": {},
   "outputs": [],
   "source": [
    "r2=f[['name','sub']]\n",
    "print(r2)"
   ]
  },
  {
   "cell_type": "code",
   "execution_count": null,
   "id": "ac913c6e",
   "metadata": {},
   "outputs": [],
   "source": [
    "type(r2)"
   ]
  },
  {
   "cell_type": "code",
   "execution_count": null,
   "id": "debd1c6c",
   "metadata": {},
   "outputs": [],
   "source": [
    "r.fillna(r.mean,inplace=True)\n",
    "r"
   ]
  },
  {
   "cell_type": "code",
   "execution_count": null,
   "id": "f96d0690",
   "metadata": {},
   "outputs": [],
   "source": [
    "f.info()"
   ]
  },
  {
   "cell_type": "code",
   "execution_count": null,
   "id": "ee6fa02e",
   "metadata": {},
   "outputs": [],
   "source": [
    "m=f['marks 1']\n",
    "print(m)"
   ]
  },
  {
   "cell_type": "code",
   "execution_count": null,
   "id": "3838246f",
   "metadata": {},
   "outputs": [],
   "source": [
    "m.isnull().sum()"
   ]
  },
  {
   "cell_type": "code",
   "execution_count": null,
   "id": "7eb0f6c1",
   "metadata": {},
   "outputs": [],
   "source": [
    "m.mean()"
   ]
  },
  {
   "cell_type": "code",
   "execution_count": null,
   "id": "f7b7bb17",
   "metadata": {},
   "outputs": [],
   "source": [
    "m.fillna(m.mean,inplace=True)"
   ]
  },
  {
   "cell_type": "code",
   "execution_count": null,
   "id": "29c43008",
   "metadata": {},
   "outputs": [],
   "source": [
    "m.isnull().sum()"
   ]
  },
  {
   "cell_type": "code",
   "execution_count": null,
   "id": "dbefa436",
   "metadata": {},
   "outputs": [],
   "source": [
    "f.info()"
   ]
  },
  {
   "cell_type": "code",
   "execution_count": null,
   "id": "08d08e8a",
   "metadata": {},
   "outputs": [],
   "source": [
    "f.shape"
   ]
  },
  {
   "cell_type": "code",
   "execution_count": null,
   "id": "3fe9fe00",
   "metadata": {},
   "outputs": [],
   "source": [
    "df3= f.append(f)\n",
    "df3\n"
   ]
  },
  {
   "cell_type": "code",
   "execution_count": null,
   "id": "f222ec3d",
   "metadata": {},
   "outputs": [],
   "source": [
    "df3.shape"
   ]
  },
  {
   "cell_type": "code",
   "execution_count": null,
   "id": "114ddb64",
   "metadata": {},
   "outputs": [],
   "source": [
    "df3.drop_duplicates()"
   ]
  },
  {
   "cell_type": "markdown",
   "id": "30a4b5cc",
   "metadata": {},
   "source": []
  },
  {
   "cell_type": "code",
   "execution_count": null,
   "id": "d2b6c55a",
   "metadata": {},
   "outputs": [],
   "source": [
    "   #new item"
   ]
  },
  {
   "cell_type": "code",
   "execution_count": null,
   "id": "ca1d1656",
   "metadata": {},
   "outputs": [],
   "source": [
    "  #Importing Pandas Library\n",
    "import pandas as pd\n",
    "\n",
    "#Creating a Sample DataFrame\n",
    "data = pd.DataFrame({\n",
    "        'id': [ 101, 123, 139, 112, 133],\n",
    "        'age': [ 10, 12, 13, 11, 12],\n",
    "        'gender': [ 'M', 'F', 'F', 'M', 'M'],\n",
    "        'group': [ 'first', 'second', 'first', 'third', 'third'],\n",
    "        'math_score': [ 41.5, 43, 38, 47, 29.5]\n",
    "    })\n",
    "\n",
    "data"
   ]
  },
  {
   "cell_type": "code",
   "execution_count": null,
   "id": "18641083",
   "metadata": {},
   "outputs": [],
   "source": [
    "#Adding a column using List\n",
    "values = [40, 38, 33, 30,'']\n",
    "\n",
    "data['Marks'] = values\n",
    "data"
   ]
  },
  {
   "cell_type": "code",
   "execution_count": null,
   "id": "13b07f51",
   "metadata": {},
   "outputs": [],
   "source": [
    "data['Marks_Maths'] = pd.Series([40, 38, 32.5, 27, 30],index=[1, 2, 3, 4, 5])\n",
    "print(data)"
   ]
  },
  {
   "cell_type": "code",
   "execution_count": null,
   "id": "5f3a4360",
   "metadata": {},
   "outputs": [],
   "source": [
    "#Adding columns using assign()\n",
    "s1 = pd.Series([40.5, 38.5, 33, 28, 31], index=[0, 1, 2, 3, 4])\n",
    "s2 = pd.Series([48.5, 42, 41, 37, 43], index=[0, 1, 2, 3, 4])\n",
    "\n",
    "data.assign(DBMS_score=s1.values, Python_score=s2.values)"
   ]
  },
  {
   "cell_type": "code",
   "execution_count": null,
   "id": "6eabe1c2",
   "metadata": {},
   "outputs": [],
   "source": [
    "#Adding a column using insert()\n",
    "#insert a new column in a specific position or index.\n",
    "data.insert(len(data.columns), 'Cloud_score', s2.values)\n",
    "print(data)"
   ]
  },
  {
   "cell_type": "code",
   "execution_count": null,
   "id": "2250c954",
   "metadata": {},
   "outputs": [],
   "source": [
    "data.insert(4, 'Python_score', s2.values)\n",
    "print(data)"
   ]
  },
  {
   "cell_type": "code",
   "execution_count": null,
   "id": "13609d28",
   "metadata": {},
   "outputs": [],
   "source": [
    "#Adding duplicate columns using insert()\n",
    "#The allow_duplicates parameter is set to False by default and returns a ValueError if the new column has a duplicate column name.\n",
    "s3 = pd.Series([43, 34, 33.5, 29, 47], index=[0, 1, 2, 3, 4])\n",
    "\n",
    "data.insert(5, 'Python_score', s3.values, allow_duplicates=True)\n",
    "print(data)"
   ]
  },
  {
   "cell_type": "code",
   "execution_count": null,
   "id": "ec106d28",
   "metadata": {},
   "outputs": [],
   "source": [
    "#adding empty column\n",
    "data['avg_score'] = pd.NaT\n",
    "data\n",
    "#pd.NaT denotes missing or null values in the Pandas DataFrame."
   ]
  },
  {
   "cell_type": "code",
   "execution_count": null,
   "id": "3d84acf6",
   "metadata": {},
   "outputs": [],
   "source": [
    "#Adding a column with a constant value 70\n",
    "data['total_score'] = 70\n",
    "data"
   ]
  },
  {
   "cell_type": "code",
   "execution_count": null,
   "id": "565171bb",
   "metadata": {},
   "outputs": [],
   "source": [
    "df = pd.read_csv('frd.csv')\n",
    "df"
   ]
  },
  {
   "cell_type": "code",
   "execution_count": null,
   "id": "9bfb5f6d",
   "metadata": {},
   "outputs": [],
   "source": [
    "df['Net Bill'] = df['Total Bill'] *2\n",
    "df"
   ]
  },
  {
   "cell_type": "code",
   "execution_count": null,
   "id": "377cc470",
   "metadata": {},
   "outputs": [],
   "source": [
    "# Count\n",
    "g = df['Gender']\n",
    "male = g.value_counts()['Male']\n",
    "female = g.value_counts()['Female']\n",
    "print(\"Male: \",g.value_counts()['Male'])\n",
    "print(\"Female: \",g.value_counts()['Female'])\n",
    "\n",
    "# Chart\n",
    "y = np.array([male,female])\n",
    "mylabels = [\"Male\", \"Female\"]\n",
    "mycolors = [\"Red\", \"Blue\"]\n",
    "\n",
    "plt.pie(y, labels = mylabels, colors = mycolors)\n",
    "plt.legend(title = \"Gender:\",  loc='upper right') #'upper left', 'upper right', 'lower left', 'lower right' 'upper center', 'lower center', 'center left', 'center right'\n",
    "plt.show()"
   ]
  },
  {
   "cell_type": "code",
   "execution_count": null,
   "id": "1b933701",
   "metadata": {},
   "outputs": [],
   "source": [
    "tip = df['Tip']\n",
    "print(\"Min: \",tip.min())\n",
    "print(\"Max: \",tip.max())"
   ]
  },
  {
   "cell_type": "code",
   "execution_count": null,
   "id": "f4581fcf",
   "metadata": {},
   "outputs": [],
   "source": [
    "print(df.loc[(df['Gender'] == 'Female')])"
   ]
  },
  {
   "cell_type": "code",
   "execution_count": null,
   "id": "cf1daf27",
   "metadata": {},
   "outputs": [],
   "source": [
    "plt.plot([1,2,3],[1,5,1])\n",
    "plt.plot([1,2,3],[1,1,1])\n",
    "\n",
    "plt.show()"
   ]
  },
  {
   "cell_type": "code",
   "execution_count": null,
   "id": "f871c1e1",
   "metadata": {},
   "outputs": [],
   "source": [
    "df=pd.read_csv('demo.csv')\n",
    "df"
   ]
  },
  {
   "cell_type": "code",
   "execution_count": null,
   "id": "4e90e485",
   "metadata": {},
   "outputs": [],
   "source": [
    "#To see first 5 rows of the dataset\n",
    "df.head()\n",
    "#To know the data types of the variables.\n",
    "df.dtypes"
   ]
  },
  {
   "cell_type": "code",
   "execution_count": null,
   "id": "cb8edd24",
   "metadata": {},
   "outputs": [],
   "source": [
    "df['GENDER'].value_counts()"
   ]
  },
  {
   "cell_type": "code",
   "execution_count": null,
   "id": "5f7e619e",
   "metadata": {},
   "outputs": [],
   "source": [
    "#Separating independant variable and dependent variable(\"Species\")\n",
    "X = df.drop(['GENDER'], axis=1)\n",
    "y = df['GENDER']\n",
    "print(X.head())"
   ]
  },
  {
   "cell_type": "code",
   "execution_count": null,
   "id": "60a651d5",
   "metadata": {},
   "outputs": [],
   "source": [
    "print(y.head())"
   ]
  },
  {
   "cell_type": "code",
   "execution_count": null,
   "id": "4cd75b11",
   "metadata": {},
   "outputs": [],
   "source": [
    "print(X.shape)\n",
    "\n",
    "print(y.shape)"
   ]
  },
  {
   "cell_type": "code",
   "execution_count": null,
   "id": "fbb929cf",
   "metadata": {},
   "outputs": [],
   "source": [
    "\n",
    "# Splitting the dataset to Train and test\n",
    "from sklearn.model_selection import train_test_split\n",
    "X_train, X_test, y_train, y_test = train_test_split(X, y, test_size=0.3, random_state=0)"
   ]
  },
  {
   "cell_type": "code",
   "execution_count": null,
   "id": "e2f77dc5",
   "metadata": {},
   "outputs": [],
   "source": [
    "#to know the shape of the train and test dataset.\n",
    "print(X_train.shape)\n",
    "print(y_train.shape)\n",
    "print(X_test.shape)\n",
    "print(y_test.shape)"
   ]
  },
  {
   "cell_type": "code",
   "execution_count": null,
   "id": "f1c419bd",
   "metadata": {},
   "outputs": [],
   "source": []
  },
  {
   "cell_type": "code",
   "execution_count": null,
   "id": "d5858517",
   "metadata": {},
   "outputs": [],
   "source": []
  },
  {
   "cell_type": "code",
   "execution_count": null,
   "id": "da0f17cb",
   "metadata": {},
   "outputs": [],
   "source": []
  }
 ],
 "metadata": {
  "kernelspec": {
   "display_name": "Python 3 (ipykernel)",
   "language": "python",
   "name": "python3"
  },
  "language_info": {
   "codemirror_mode": {
    "name": "ipython",
    "version": 3
   },
   "file_extension": ".py",
   "mimetype": "text/x-python",
   "name": "python",
   "nbconvert_exporter": "python",
   "pygments_lexer": "ipython3",
   "version": "3.10.10"
  }
 },
 "nbformat": 4,
 "nbformat_minor": 5
}
